{
 "cells": [
  {
   "cell_type": "markdown",
   "metadata": {},
   "source": [
    "# Import required modules:"
   ]
  },
  {
   "cell_type": "code",
   "execution_count": 54,
   "metadata": {},
   "outputs": [],
   "source": [
    "import numpy as np\n",
    "import os\n",
    "import matplotlib.pyplot as plt\n",
    "\n",
    "# other alternatives to load plt\n",
    "#from scipy.misc import imread\n",
    "#from scipy.misc import imread, imsave, imresize\n",
    "#from skimage import io\n",
    "\n",
    "import pandas as pd"
   ]
  },
  {
   "cell_type": "markdown",
   "metadata": {},
   "source": [
    "# Source training and test image files:"
   ]
  },
  {
   "cell_type": "code",
   "execution_count": 3,
   "metadata": {},
   "outputs": [
    {
     "data": {
      "text/plain": [
       "12632"
      ]
     },
     "execution_count": 3,
     "metadata": {},
     "output_type": "execute_result"
    }
   ],
   "source": [
    "train_dir = \"data/train/\"\n",
    "test_dir = \"data/test/\"\n",
    "\n",
    "len(os.listdir(test_dir))"
   ]
  },
  {
   "cell_type": "markdown",
   "metadata": {},
   "source": [
    "# Training set"
   ]
  },
  {
   "cell_type": "markdown",
   "metadata": {},
   "source": [
    "## Obtain labels: For each different category:"
   ]
  },
  {
   "cell_type": "code",
   "execution_count": 10,
   "metadata": {},
   "outputs": [
    {
     "data": {
      "text/plain": [
       "43"
      ]
     },
     "execution_count": 10,
     "metadata": {},
     "output_type": "execute_result"
    }
   ],
   "source": [
    "class_names = [\n",
    "\"Max Speed 20 km/h\",\n",
    "\"Max Speed 30 km/h\",\n",
    "\"Max Speed 50 km/h\",\n",
    "\"Max Speed 60 km/h\",\n",
    "\"Max Speed 70 km/h\",\n",
    "\"Max Speed 80 km/h\",\n",
    "\"End of 80 km/h zone\",\n",
    "\"Max Speed 100 km/h\",\n",
    "\"Max Speed 120 km/h\",\n",
    "\"No passing\",\n",
    "\"No passing for vehicles over 3.5 tonnes\",\n",
    "\"Priority\",\n",
    "\"Priority road\",\n",
    "\"Yield\",\n",
    "\"Stop\",\n",
    "\"Road closed\",\n",
    "\"Vehicles over 3.5 tonnes prohibited\",\n",
    "\"Do not enter\",\n",
    "\"General danger\",\n",
    "\"Left curve\",\n",
    "\"Right curve\",\n",
    "\"Double curve\",\n",
    "\"Uneven road surface\",\n",
    "\"Slippery when wet or dirty\",\n",
    "\"Road narrows\",\n",
    "\"Roadworks\",\n",
    "\"Traffic signals ahead\",\n",
    "\"Pedestrians\",\n",
    "\"Watch for children\",\n",
    "\"Bicycle crossing\",\n",
    "\"Ice - snow\",\n",
    "\"Wild animal crossing\",\n",
    "\"End of all restrictions\",\n",
    "\"Turn right ahead\",\n",
    "\"Turn left ahead\",\n",
    "\"Ahead only\",\n",
    "\"Ahead or turn right only\",\n",
    "\"Ahead or turn left only\",\n",
    "\"Pass by on right\",\n",
    "\"Pass by on left\",\n",
    "\"Roundabout\",\n",
    "\"End of no passing zone\",\n",
    "\"End of no passing zone for trucks\"\n",
    "]\n",
    "len(class_names)"
   ]
  },
  {
   "cell_type": "markdown",
   "metadata": {},
   "source": [
    "## Decode all ppm pictures from a given directory into numpy array;"
   ]
  },
  {
   "cell_type": "code",
   "execution_count": 52,
   "metadata": {},
   "outputs": [],
   "source": [
    "#Create a filtered list of .ppm files, then call plt.imread on the resulting list.\n",
    "\n",
    "def PpmToNumpy(directory):\n",
    "    \n",
    "    '''\n",
    "    Clusters decoded ppm pictures into a numpy array, given a host directory.\n",
    "\n",
    "    Params:\n",
    "    String containing a directory address.\n",
    "\n",
    "    Returns:\n",
    "    numpy array whose items are decoded ppm pictures (np.array)\n",
    "\n",
    "    '''\n",
    "\n",
    "    files = os.listdir(directory)\n",
    "    files = [file for file in files if file.split(\".\")[1] == \"ppm\"] # to ensure only ppm images are called\n",
    "    \n",
    "    return np.array([plt.imread(directory + file) for file in files], dtype=object)\n",
    "                       "
   ]
  },
  {
   "cell_type": "markdown",
   "metadata": {},
   "source": [
    "## Label all training pictures (y_train)"
   ]
  },
  {
   "cell_type": "code",
   "execution_count": 58,
   "metadata": {},
   "outputs": [
    {
     "data": {
      "text/plain": [
       "array(['Max Speed 20 km/h', 'Max Speed 20 km/h', 'Max Speed 20 km/h', ...,\n",
       "       'End of no passing zone for trucks',\n",
       "       'End of no passing zone for trucks',\n",
       "       'End of no passing zone for trucks'], dtype='<U39')"
      ]
     },
     "execution_count": 58,
     "metadata": {},
     "output_type": "execute_result"
    }
   ],
   "source": [
    "y_train = []\n",
    "\n",
    "for folder in os.listdir(train_dir):\n",
    "    \n",
    "    pictures = [pic for pic in os.listdir(train_dir + \"/\" + folder) if pic.split(\".\")[-1] == \"ppm\" ] # filter out non-ppm files\n",
    "    #print(folder, pictures)\n",
    "    \n",
    "    for picture in pictures:\n",
    "        y_train.append(class_names[int(folder)])\n",
    "\n",
    "y_train = np.array(y_train)\n",
    "y_train"
   ]
  },
  {
   "cell_type": "markdown",
   "metadata": {},
   "source": [
    "## Build training dataset (x_train)"
   ]
  },
  {
   "cell_type": "code",
   "execution_count": 33,
   "metadata": {},
   "outputs": [],
   "source": [
    "x_train = PpmToNumpy(train_dir + \"/00000/\")"
   ]
  },
  {
   "cell_type": "raw",
   "metadata": {},
   "source": [
    "print('length x_train:', len(x_train), type(x_train) )\n",
    "print('length x_train[0]', len(x_train[0]), type(x_train[0]))\n",
    "print('length x_train[0][0]', len(x_train[0][0]), type(x_train[0][0]))\n",
    "print('contents from x_train[0][0]', x_train[0])"
   ]
  },
  {
   "cell_type": "code",
   "execution_count": 34,
   "metadata": {},
   "outputs": [],
   "source": [
    "all_images = [ PpmToNumpy(train_dir + \"/\" + folder + \"/\") for folder in os.listdir(train_dir)]\n",
    "\n",
    "x_train = np.concatenate(all_images, axis=0, out=None, dtype=None, casting=\"same_kind\")"
   ]
  },
  {
   "cell_type": "markdown",
   "metadata": {},
   "source": [
    "## Show pictures"
   ]
  },
  {
   "cell_type": "code",
   "execution_count": 51,
   "metadata": {},
   "outputs": [
    {
     "data": {
      "image/png": "[encoded data removed]",
      "text/plain": [
       "<Figure size 432x288 with 1 Axes>"
      ]
     },
     "metadata": {
      "needs_background": "light"
     },
     "output_type": "display_data"
    }
   ],
   "source": [
    "index = 12312\n",
    "\n",
    "plt.figure()\n",
    "plt.imshow(x_train[index, ], cmap = 'gray')\n",
    "plt.title(y_train[index])\n",
    "plt.show()"
   ]
  },
  {
   "cell_type": "markdown",
   "metadata": {},
   "source": [
    "# Test set"
   ]
  },
  {
   "cell_type": "code",
   "execution_count": 55,
   "metadata": {},
   "outputs": [
    {
     "data": {
      "text/html": [
       "<div>\n",
       "<style scoped>\n",
       "    .dataframe tbody tr th:only-of-type {\n",
       "        vertical-align: middle;\n",
       "    }\n",
       "\n",
       "    .dataframe tbody tr th {\n",
       "        vertical-align: top;\n",
       "    }\n",
       "\n",
       "    .dataframe thead th {\n",
       "        text-align: right;\n",
       "    }\n",
       "</style>\n",
       "<table border=\"1\" class=\"dataframe\">\n",
       "  <thead>\n",
       "    <tr style=\"text-align: right;\">\n",
       "      <th></th>\n",
       "      <th>Width</th>\n",
       "      <th>Height</th>\n",
       "      <th>Roi.X1</th>\n",
       "      <th>Roi.Y1</th>\n",
       "      <th>Roi.X2</th>\n",
       "      <th>Roi.Y2</th>\n",
       "      <th>ClassId</th>\n",
       "      <th>Path</th>\n",
       "    </tr>\n",
       "  </thead>\n",
       "  <tbody>\n",
       "    <tr>\n",
       "      <td>0</td>\n",
       "      <td>53</td>\n",
       "      <td>54</td>\n",
       "      <td>6</td>\n",
       "      <td>5</td>\n",
       "      <td>48</td>\n",
       "      <td>49</td>\n",
       "      <td>16</td>\n",
       "      <td>Test/00000.png</td>\n",
       "    </tr>\n",
       "    <tr>\n",
       "      <td>1</td>\n",
       "      <td>42</td>\n",
       "      <td>45</td>\n",
       "      <td>5</td>\n",
       "      <td>5</td>\n",
       "      <td>36</td>\n",
       "      <td>40</td>\n",
       "      <td>1</td>\n",
       "      <td>Test/00001.png</td>\n",
       "    </tr>\n",
       "    <tr>\n",
       "      <td>2</td>\n",
       "      <td>48</td>\n",
       "      <td>52</td>\n",
       "      <td>6</td>\n",
       "      <td>6</td>\n",
       "      <td>43</td>\n",
       "      <td>47</td>\n",
       "      <td>38</td>\n",
       "      <td>Test/00002.png</td>\n",
       "    </tr>\n",
       "    <tr>\n",
       "      <td>3</td>\n",
       "      <td>27</td>\n",
       "      <td>29</td>\n",
       "      <td>5</td>\n",
       "      <td>5</td>\n",
       "      <td>22</td>\n",
       "      <td>24</td>\n",
       "      <td>33</td>\n",
       "      <td>Test/00003.png</td>\n",
       "    </tr>\n",
       "    <tr>\n",
       "      <td>4</td>\n",
       "      <td>60</td>\n",
       "      <td>57</td>\n",
       "      <td>5</td>\n",
       "      <td>5</td>\n",
       "      <td>55</td>\n",
       "      <td>52</td>\n",
       "      <td>11</td>\n",
       "      <td>Test/00004.png</td>\n",
       "    </tr>\n",
       "    <tr>\n",
       "      <td>5</td>\n",
       "      <td>52</td>\n",
       "      <td>56</td>\n",
       "      <td>5</td>\n",
       "      <td>5</td>\n",
       "      <td>47</td>\n",
       "      <td>51</td>\n",
       "      <td>38</td>\n",
       "      <td>Test/00005.png</td>\n",
       "    </tr>\n",
       "    <tr>\n",
       "      <td>6</td>\n",
       "      <td>147</td>\n",
       "      <td>130</td>\n",
       "      <td>12</td>\n",
       "      <td>12</td>\n",
       "      <td>135</td>\n",
       "      <td>119</td>\n",
       "      <td>18</td>\n",
       "      <td>Test/00006.png</td>\n",
       "    </tr>\n",
       "    <tr>\n",
       "      <td>7</td>\n",
       "      <td>32</td>\n",
       "      <td>33</td>\n",
       "      <td>5</td>\n",
       "      <td>5</td>\n",
       "      <td>26</td>\n",
       "      <td>28</td>\n",
       "      <td>12</td>\n",
       "      <td>Test/00007.png</td>\n",
       "    </tr>\n",
       "    <tr>\n",
       "      <td>8</td>\n",
       "      <td>45</td>\n",
       "      <td>50</td>\n",
       "      <td>6</td>\n",
       "      <td>5</td>\n",
       "      <td>40</td>\n",
       "      <td>45</td>\n",
       "      <td>25</td>\n",
       "      <td>Test/00008.png</td>\n",
       "    </tr>\n",
       "    <tr>\n",
       "      <td>9</td>\n",
       "      <td>81</td>\n",
       "      <td>86</td>\n",
       "      <td>7</td>\n",
       "      <td>7</td>\n",
       "      <td>74</td>\n",
       "      <td>79</td>\n",
       "      <td>35</td>\n",
       "      <td>Test/00009.png</td>\n",
       "    </tr>\n",
       "    <tr>\n",
       "      <td>10</td>\n",
       "      <td>38</td>\n",
       "      <td>37</td>\n",
       "      <td>6</td>\n",
       "      <td>5</td>\n",
       "      <td>33</td>\n",
       "      <td>32</td>\n",
       "      <td>12</td>\n",
       "      <td>Test/00010.png</td>\n",
       "    </tr>\n",
       "    <tr>\n",
       "      <td>11</td>\n",
       "      <td>45</td>\n",
       "      <td>44</td>\n",
       "      <td>6</td>\n",
       "      <td>5</td>\n",
       "      <td>40</td>\n",
       "      <td>39</td>\n",
       "      <td>7</td>\n",
       "      <td>Test/00011.png</td>\n",
       "    </tr>\n",
       "    <tr>\n",
       "      <td>12</td>\n",
       "      <td>79</td>\n",
       "      <td>73</td>\n",
       "      <td>7</td>\n",
       "      <td>7</td>\n",
       "      <td>72</td>\n",
       "      <td>67</td>\n",
       "      <td>23</td>\n",
       "      <td>Test/00012.png</td>\n",
       "    </tr>\n",
       "    <tr>\n",
       "      <td>13</td>\n",
       "      <td>36</td>\n",
       "      <td>37</td>\n",
       "      <td>5</td>\n",
       "      <td>6</td>\n",
       "      <td>31</td>\n",
       "      <td>32</td>\n",
       "      <td>7</td>\n",
       "      <td>Test/00013.png</td>\n",
       "    </tr>\n",
       "    <tr>\n",
       "      <td>14</td>\n",
       "      <td>43</td>\n",
       "      <td>41</td>\n",
       "      <td>5</td>\n",
       "      <td>5</td>\n",
       "      <td>37</td>\n",
       "      <td>36</td>\n",
       "      <td>4</td>\n",
       "      <td>Test/00014.png</td>\n",
       "    </tr>\n",
       "    <tr>\n",
       "      <td>15</td>\n",
       "      <td>27</td>\n",
       "      <td>27</td>\n",
       "      <td>6</td>\n",
       "      <td>6</td>\n",
       "      <td>22</td>\n",
       "      <td>22</td>\n",
       "      <td>9</td>\n",
       "      <td>Test/00015.png</td>\n",
       "    </tr>\n",
       "    <tr>\n",
       "      <td>16</td>\n",
       "      <td>37</td>\n",
       "      <td>38</td>\n",
       "      <td>5</td>\n",
       "      <td>6</td>\n",
       "      <td>31</td>\n",
       "      <td>32</td>\n",
       "      <td>21</td>\n",
       "      <td>Test/00016.png</td>\n",
       "    </tr>\n",
       "    <tr>\n",
       "      <td>17</td>\n",
       "      <td>32</td>\n",
       "      <td>33</td>\n",
       "      <td>5</td>\n",
       "      <td>5</td>\n",
       "      <td>27</td>\n",
       "      <td>28</td>\n",
       "      <td>20</td>\n",
       "      <td>Test/00017.png</td>\n",
       "    </tr>\n",
       "    <tr>\n",
       "      <td>18</td>\n",
       "      <td>35</td>\n",
       "      <td>35</td>\n",
       "      <td>5</td>\n",
       "      <td>6</td>\n",
       "      <td>30</td>\n",
       "      <td>29</td>\n",
       "      <td>27</td>\n",
       "      <td>Test/00018.png</td>\n",
       "    </tr>\n",
       "    <tr>\n",
       "      <td>19</td>\n",
       "      <td>34</td>\n",
       "      <td>40</td>\n",
       "      <td>6</td>\n",
       "      <td>6</td>\n",
       "      <td>29</td>\n",
       "      <td>35</td>\n",
       "      <td>38</td>\n",
       "      <td>Test/00019.png</td>\n",
       "    </tr>\n",
       "  </tbody>\n",
       "</table>\n",
       "</div>"
      ],
      "text/plain": [
       "    Width  Height  Roi.X1  Roi.Y1  Roi.X2  Roi.Y2  ClassId            Path\n",
       "0      53      54       6       5      48      49       16  Test/00000.png\n",
       "1      42      45       5       5      36      40        1  Test/00001.png\n",
       "2      48      52       6       6      43      47       38  Test/00002.png\n",
       "3      27      29       5       5      22      24       33  Test/00003.png\n",
       "4      60      57       5       5      55      52       11  Test/00004.png\n",
       "5      52      56       5       5      47      51       38  Test/00005.png\n",
       "6     147     130      12      12     135     119       18  Test/00006.png\n",
       "7      32      33       5       5      26      28       12  Test/00007.png\n",
       "8      45      50       6       5      40      45       25  Test/00008.png\n",
       "9      81      86       7       7      74      79       35  Test/00009.png\n",
       "10     38      37       6       5      33      32       12  Test/00010.png\n",
       "11     45      44       6       5      40      39        7  Test/00011.png\n",
       "12     79      73       7       7      72      67       23  Test/00012.png\n",
       "13     36      37       5       6      31      32        7  Test/00013.png\n",
       "14     43      41       5       5      37      36        4  Test/00014.png\n",
       "15     27      27       6       6      22      22        9  Test/00015.png\n",
       "16     37      38       5       6      31      32       21  Test/00016.png\n",
       "17     32      33       5       5      27      28       20  Test/00017.png\n",
       "18     35      35       5       6      30      29       27  Test/00018.png\n",
       "19     34      40       6       6      29      35       38  Test/00019.png"
      ]
     },
     "execution_count": 55,
     "metadata": {},
     "output_type": "execute_result"
    }
   ],
   "source": [
    "test_meta = pd.read_csv(\"data/Test.csv\")\n",
    "test_meta.head(20)"
   ]
  },
  {
   "cell_type": "code",
   "execution_count": 63,
   "metadata": {},
   "outputs": [
    {
     "data": {
      "text/plain": [
       "array(['Vehicles over 3.5 tonnes prohibited', 'Max Speed 30 km/h',\n",
       "       'Pass by on right', ..., 'End of 80 km/h zone',\n",
       "       'Max Speed 100 km/h', 'No passing for vehicles over 3.5 tonnes'],\n",
       "      dtype=object)"
      ]
     },
     "execution_count": 63,
     "metadata": {},
     "output_type": "execute_result"
    }
   ],
   "source": [
    "y_test = np.array(test_meta[\"ClassId\"].apply(lambda x: class_names[x]))\n",
    "\n",
    "y_test\n"
   ]
  },
  {
   "cell_type": "code",
   "execution_count": 64,
   "metadata": {},
   "outputs": [],
   "source": [
    "x_test = PpmToNumpy(test_dir)"
   ]
  },
  {
   "cell_type": "code",
   "execution_count": 68,
   "metadata": {},
   "outputs": [
    {
     "data": {
      "image/png": "[encoded data removed]",
      "text/plain": [
       "<Figure size 432x288 with 1 Axes>"
      ]
     },
     "metadata": {
      "needs_background": "light"
     },
     "output_type": "display_data"
    }
   ],
   "source": [
    "index = 9796\n",
    "\n",
    "plt.figure()\n",
    "plt.imshow(x_test[index, ], cmap = 'gray')\n",
    "plt.title(y_test[index])\n",
    "plt.show()"
   ]
  }
 ],
 "metadata": {
  "kernelspec": {
   "display_name": "Python 3",
   "language": "python",
   "name": "python3"
  },
  "language_info": {
   "codemirror_mode": {
    "name": "ipython",
    "version": 3
   },
   "file_extension": ".py",
   "mimetype": "text/x-python",
   "name": "python",
   "nbconvert_exporter": "python",
   "pygments_lexer": "ipython3",
   "version": "3.7.4"
  }
 },
 "nbformat": 4,
 "nbformat_minor": 2
}
