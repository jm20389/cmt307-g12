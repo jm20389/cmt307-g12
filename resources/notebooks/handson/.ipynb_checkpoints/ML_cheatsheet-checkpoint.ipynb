{
 "cells": [
  {
   "cell_type": "code",
   "execution_count": null,
   "metadata": {},
   "outputs": [],
   "source": [
    "# Linear Regression\n",
    "\n",
    "# Import and create the model:\n",
    "\n",
    "from sklearn.linear_model import LinearRegression\n",
    " \n",
    "your_model = LinearRegression()\n",
    "\n",
    "#Fit:\n",
    "\n",
    "your_model.fit(x_training_data, y_training_data)\n",
    "\n",
    "# .coef_: contains the coefficients\n",
    "# .intercept_: contains the intercept\n",
    "\n",
    "\n",
    "# Predict:\n",
    "\n",
    "predictions = your_model.predict(your_x_data)\n",
    "\n",
    "#.score(): returns the coefficient of determination R²"
   ]
  },
  {
   "cell_type": "code",
   "execution_count": null,
   "metadata": {},
   "outputs": [],
   "source": [
    "# Naive Bayes\n",
    "\n",
    "# Import and create the model:\n",
    "\n",
    "from sklearn.naive_bayes import MultinomialNB\n",
    " \n",
    "your_model = MultinomialNB()\n",
    "\n",
    "# Fit:\n",
    "\n",
    "your_model.fit(x_training_data, y_training_data)\n",
    "\n",
    "# Predict:\n",
    "\n",
    "# Returns a list of predicted classes - one prediction for every data point\n",
    "predictions = your_model.predict(your_x_data)\n",
    " \n",
    "# For every data point, returns a list of probabilities of each class\n",
    "probabilities = your_model.predict_proba(your_x_data)"
   ]
  },
  {
   "cell_type": "code",
   "execution_count": null,
   "metadata": {},
   "outputs": [],
   "source": [
    "# K-Nearest Neighbors\n",
    "\n",
    "Import and create the model:\n",
    "\n",
    "from sklearn.neigbors import KNeighborsClassifier\n",
    " \n",
    "your_model = KNeighborsClassifier()\n",
    "Fit:\n",
    "\n",
    "your_model.fit(x_training_data, y_training_data)\n",
    "Predict:\n",
    "\n",
    "# Returns a list of predicted classes - one prediction for every data point\n",
    "predictions = your_model.predict(your_x_data)\n",
    " \n",
    "# For every data point, returns a list of probabilities of each class\n",
    "probabilities = your_model.predict_proba(your_x_data)"
   ]
  },
  {
   "cell_type": "code",
   "execution_count": null,
   "metadata": {},
   "outputs": [],
   "source": [
    "# K-Means\n",
    "\n",
    "# Import and create the model:\n",
    "\n",
    "from sklearn.cluster import KMeans\n",
    " \n",
    "your_model = KMeans(n_clusters=4, init='random')\n",
    "\n",
    "# n_clusters: number of clusters to form and number of centroids to generate\n",
    "# init: method for initialization\n",
    "# k-means++: K-Means++ [default]\n",
    "# random: K-Means\n",
    "# random_state: the seed used by the random number generator [optional]\n",
    "\n",
    "# Fit:\n",
    "\n",
    "your_model.fit(x_training_data)\n",
    "\n",
    "# Predict:\n",
    "\n",
    "predictions = your_model.predict(your_x_data)"
   ]
  },
  {
   "cell_type": "code",
   "execution_count": null,
   "metadata": {},
   "outputs": [],
   "source": [
    "# Validating the Model\n",
    "\n",
    "# Import and print accuracy, recall, precision, and F1 score:\n",
    "\n",
    "from sklearn.metrics import accuracy_score, recall_score, precision_score, f1_score\n",
    " \n",
    "print(accuracy_score(true_labels, guesses))\n",
    "print(recall_score(true_labels, guesses))\n",
    "print(precision_score(true_labels, guesses))\n",
    "print(f1_score(true_labels, guesses))\n",
    "\n",
    "# Import and print the confusion matrix:\n",
    "\n",
    "from sklearn.metrics import confusion_matrix\n",
    " \n",
    "print(confusion_matrix(true_labels, guesses))\n"
   ]
  },
  {
   "cell_type": "code",
   "execution_count": null,
   "metadata": {},
   "outputs": [],
   "source": [
    "# Training Sets and Test Sets\n",
    "\n",
    "from sklearn.model_selection import train_test_split\n",
    " \n",
    "x_train, x_test, y_train, y_test = train_test_split(x, y, train_size=0.8, test_size=0.2)\n",
    "\n",
    "# train_size: the proportion of the dataset to include in the train split\n",
    "# test_size: the proportion of the dataset to include in the test split\n",
    "# random_state: the seed used by the random number generator [optional]"
   ]
  }
 ],
 "metadata": {
  "kernelspec": {
   "display_name": "Python 3",
   "language": "python",
   "name": "python3"
  },
  "language_info": {
   "codemirror_mode": {
    "name": "ipython",
    "version": 3
   },
   "file_extension": ".py",
   "mimetype": "text/x-python",
   "name": "python",
   "nbconvert_exporter": "python",
   "pygments_lexer": "ipython3",
   "version": "3.7.4"
  }
 },
 "nbformat": 4,
 "nbformat_minor": 2
}
