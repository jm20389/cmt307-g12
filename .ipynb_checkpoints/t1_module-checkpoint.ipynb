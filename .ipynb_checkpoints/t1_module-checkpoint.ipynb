{
 "cells": [
  {
   "cell_type": "code",
   "execution_count": null,
   "metadata": {},
   "outputs": [],
   "source": [
    "import numpy as np\n",
    "import os\n",
    "import matplotlib.pyplot as plt\n",
    "\n",
    "# other alternatives to load plt\n",
    "#from scipy.misc import imread\n",
    "#from scipy.misc import imread, imsave, imresize\n",
    "#from skimage import io\n",
    "\n"
   ]
  },
  {
   "cell_type": "code",
   "execution_count": 41,
   "metadata": {},
   "outputs": [
    {
     "data": {
      "text/plain": [
       "12631"
      ]
     },
     "execution_count": 41,
     "metadata": {},
     "output_type": "execute_result"
    }
   ],
   "source": [
    "train_dir = \"data/train/\"\n",
    "test_dir = \"data/test/\"\n",
    "\n",
    "len(os.listdir(test_dir))"
   ]
  },
  {
   "cell_type": "raw",
   "metadata": {},
   "source": [
    "# Method 1: Create filenames by iteration, then call plt.imread for each of them\n",
    "\n",
    "def CreateFilename(index):\n",
    "    index = str(index)\n",
    "    while len(index) < 5:\n",
    "        index = \"0\" + index\n",
    "    \n",
    "    return index + \".ppm\"\n",
    "\n",
    "all_images = [plt.imread(test_dir + CreateFilename(i)) for i in range(len(os.listdir(test_dir))-1) if CreateFilename(i).split(\".\")[1] == \"ppm\"]\n",
    "\n",
    "[image.shape for image in all_images]"
   ]
  },
  {
   "cell_type": "code",
   "execution_count": 39,
   "metadata": {},
   "outputs": [
    {
     "data": {
      "text/plain": [
       "numpy.ndarray"
      ]
     },
     "execution_count": 39,
     "metadata": {},
     "output_type": "execute_result"
    }
   ],
   "source": [
    "# Method 2: Create a filtered list of .ppm files, then call plt.imread on the resulting list.\n",
    "\n",
    "def PpmToNumpy(directory):\n",
    "    \n",
    "    '''\n",
    "    Clusters decoded ppm pictures into a numpy array, given a host directory.\n",
    "\n",
    "    Params:\n",
    "    String containing a directory address.\n",
    "\n",
    "    Returns:\n",
    "    numpy array whose items are decoded ppm pictures (np.array)\n",
    "\n",
    "    '''\n",
    "\n",
    "    files = os.listdir(directory)\n",
    "    files = [file for file in files if file.split(\".\")[1] == \"ppm\"] # to ensure only ppm images are called\n",
    "    \n",
    "    return np.array([plt.imread(test_dir + file) for file in files], dtype=object)\n",
    "                       \n",
    "type(PpmToNumpy(test_dir))"
   ]
  },
  {
   "cell_type": "code",
   "execution_count": null,
   "metadata": {},
   "outputs": [],
   "source": []
  }
 ],
 "metadata": {
  "kernelspec": {
   "display_name": "Python 3",
   "language": "python",
   "name": "python3"
  },
  "language_info": {
   "codemirror_mode": {
    "name": "ipython",
    "version": 3
   },
   "file_extension": ".py",
   "mimetype": "text/x-python",
   "name": "python",
   "nbconvert_exporter": "python",
   "pygments_lexer": "ipython3",
   "version": "3.7.4"
  }
 },
 "nbformat": 4,
 "nbformat_minor": 2
}
