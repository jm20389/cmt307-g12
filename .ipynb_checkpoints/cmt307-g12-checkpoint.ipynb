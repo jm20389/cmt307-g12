{
 "cells": [
  {
   "cell_type": "markdown",
   "metadata": {},
   "source": [
    "# <font color=red> CMT307 Applied Machine Learning </font>\n",
    "<a class=\"anchor\" id=\"main_title\"></a>\n",
    "## Coursework 2 - 2021-2022 Spring semester\n",
    "### Group 12\n",
    "<br/>\n",
    "\n",
    "[Matthew Esposito](mailto:EspositoMD1@cardiff.ac.uk)<br />\n",
    "[Chuntong Huang](mailto:HuangC31@cardiff.ac.uk)<br />\n",
    "[Matthew Jepson](mailto:JepsonMW@cardiff.ac.uk)<br />\n",
    "[Guoyi Jia](mailto:JiaG@cardiff.ac.uk)<br /> \n",
    "[Zhicong Tang](mailto:TangZ19@cardiff.ac.uk)<br /> \n",
    "[Hekang Zhang](mailto:ZhangH120@cardiff.ac.uk)<br /> \n",
    "[Xiaoling Zhu](mailto:ZhuX41@cardiff.ac.uk)<br />\n",
    "[Jose Mendoza](mailto:mendoza-jimenezjc@cardiff.ac.uk)<br />\n"
   ]
  },
  {
   "cell_type": "markdown",
   "metadata": {},
   "source": [
    "<a class=\"anchor\" id=\"index\"></a>\n",
    "# Contents\n",
    "***\n",
    "## [0. Import required modules](#0)\n",
    "<br/>\n",
    "\n",
    "***\n",
    "## [1. Descriptive analysis of the dataset + Error analysis](#1)\n",
    "<br/>\n",
    "\n",
    "### [1.0. Data load ](#1_0)\n",
    "### [1.1. Exploratory data analysis ](#1_1)\n",
    "### [1.2. Data visualization ](#1_2)\n",
    "\n",
    "<br/>\n",
    "\n",
    "***\n",
    "## [2. Preprocessing + Literature review](#2)\n",
    "<br/>\n",
    "\n",
    "### [2.1 Data pre-processing](#2_1)\n",
    "### [2.2 Literature review](#2_2)\n",
    "\n",
    "<br/>\n",
    "\n",
    "***\n",
    "## [3. Implementation + results](#3)\n",
    "<br/>\n",
    "\n",
    "### [3.1 Model implementation](#3_1)\n",
    "#### [3.1.1. CNN arquitechture ](#3_1_1)\n",
    "\n",
    "<br/>\n",
    "\n",
    "### [3.2 Model training and parameter tuning](#3_2)\n",
    "\n",
    "### [3.3 Performance review](#3_3)\n",
    "\n",
    "<br/>\n"
   ]
  },
  {
   "cell_type": "markdown",
   "metadata": {},
   "source": [
    "Initial discussion and project scope"
   ]
  },
  {
   "cell_type": "markdown",
   "metadata": {},
   "source": [
    "***\n",
    "# 0. Import required modules\n",
    "<a class=\"anchor\" id=\"0\"></a>\n",
    "#### [Return to index](#main_title)\n",
    "<br/>\n",
    "\n",
    "Import required packages for each part of the coursework:\n"
   ]
  },
  {
   "cell_type": "code",
   "execution_count": null,
   "metadata": {},
   "outputs": [],
   "source": [
    "# General modules:\n",
    "import numpy as np\n",
    "\n",
    "# Exploratory data analysis:\n",
    "import pandas as pd\n",
    "from matplotlib import pyplot as plt\n",
    "%matplotlib_inline\n",
    "import seaborn as sns\n",
    "\n",
    "# Data pre-processing\n",
    "from Collections import Counter, defaultdict\n",
    "\n",
    "# Machine learning module\n",
    "import tensorflow as tf\n",
    "import keras\n"
   ]
  },
  {
   "cell_type": "markdown",
   "metadata": {},
   "source": [
    "***\n",
    "# 1. Descriptive analysis of the dataset + error analysis \n",
    "<a class=\"anchor\" id=\"1\"></a>\n",
    "#### [Return to index](#main_title)\n",
    "<br/>"
   ]
  },
  {
   "cell_type": "markdown",
   "metadata": {},
   "source": [
    "Section scope"
   ]
  },
  {
   "cell_type": "markdown",
   "metadata": {},
   "source": [
    "## 1.0 Data load \n",
    "<a class=\"anchor\" id=\"1_0\"></a>\n",
    "#### [Return to index](#main_title)"
   ]
  },
  {
   "cell_type": "markdown",
   "metadata": {},
   "source": [
    "## 1.1 Exploratory data analysis \n",
    "<a class=\"anchor\" id=\"1_1\"></a>\n",
    "#### [Return to index](#main_title)"
   ]
  },
  {
   "cell_type": "markdown",
   "metadata": {},
   "source": [
    "## 1.2 Data load \n",
    "<a class=\"anchor\" id=\"1_2\"></a>\n",
    "#### [Return to index](#main_title)"
   ]
  },
  {
   "cell_type": "markdown",
   "metadata": {},
   "source": [
    "***\n",
    "# 2. Preprocessing + Literature review \n",
    "<a class=\"anchor\" id=\"2\"></a>\n",
    "#### [Return to index](#main_title)"
   ]
  },
  {
   "cell_type": "markdown",
   "metadata": {},
   "source": [
    "## 2.1 Data load \n",
    "<a class=\"anchor\" id=\"2_1\"></a>\n",
    "#### [Return to index](#main_title)"
   ]
  },
  {
   "cell_type": "markdown",
   "metadata": {},
   "source": [
    "## 2.2 Literature Review \n",
    "<a class=\"anchor\" id=\"2_2\"></a>\n",
    "#### [Return to index](#main_title)"
   ]
  },
  {
   "cell_type": "markdown",
   "metadata": {},
   "source": [
    "***\n",
    "# 3. Implementation + results \n",
    "<a class=\"anchor\" id=\"3\"></a>\n",
    "#### [Return to index](#main_title)"
   ]
  },
  {
   "cell_type": "markdown",
   "metadata": {},
   "source": [
    "## 3.1 Model implementation \n",
    "<a class=\"anchor\" id=\"3_1\"></a>\n",
    "#### [Return to index](#main_title)"
   ]
  },
  {
   "cell_type": "markdown",
   "metadata": {},
   "source": [
    "### 3.1.1 CNN Architecture  \n",
    "<a class=\"anchor\" id=\"3_1_1\"></a>\n",
    "#### [Return to index](#main_title)"
   ]
  },
  {
   "cell_type": "markdown",
   "metadata": {},
   "source": [
    "## 3.2 Model training and parameter tuning\n",
    "<a class=\"anchor\" id=\"3_2\"></a>\n",
    "#### [Return to index](#main_title)"
   ]
  },
  {
   "cell_type": "markdown",
   "metadata": {},
   "source": [
    "## 3.3 Performance review\n",
    "<a class=\"anchor\" id=\"3_3\"></a>\n",
    "#### [Return to index](#main_title)"
   ]
  }
 ],
 "metadata": {
  "kernelspec": {
   "display_name": "Python 3",
   "language": "python",
   "name": "python3"
  },
  "language_info": {
   "codemirror_mode": {
    "name": "ipython",
    "version": 3
   },
   "file_extension": ".py",
   "mimetype": "text/x-python",
   "name": "python",
   "nbconvert_exporter": "python",
   "pygments_lexer": "ipython3",
   "version": "3.7.4"
  }
 },
 "nbformat": 4,
 "nbformat_minor": 4
}
