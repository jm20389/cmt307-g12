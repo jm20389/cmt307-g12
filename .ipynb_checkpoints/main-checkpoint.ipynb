{
 "cells": [
  {
   "cell_type": "markdown",
   "metadata": {},
   "source": [
    "# <font color=red> CMT307 Applied Machine Learning </font>\n",
    "<a class=\"anchor\" id=\"main_title\"></a>\n",
    "## Coursework 2 - 2021-2022 Spring semester\n",
    "### Group 12\n",
    "<br/>\n",
    "\n",
    "[Matthew Esposito](mailto:EspositoMD1@cardiff.ac.uk)<br />\n",
    "[Chuntong Huang](mailto:HuangC31@cardiff.ac.uk)<br />\n",
    "[Matthew Jepson](mailto:JepsonMW@cardiff.ac.uk)<br />\n",
    "[Guoyi Jia](mailto:JiaG@cardiff.ac.uk)<br /> \n",
    "[Zhicong Tang](mailto:TangZ19@cardiff.ac.uk)<br /> \n",
    "[Hekang Zhang](mailto:ZhangH120@cardiff.ac.uk)<br /> \n",
    "[Xiaoling Zhu](mailto:ZhuX41@cardiff.ac.uk)<br />\n",
    "[Jose Mendoza](mailto:mendoza-jimenezjc@cardiff.ac.uk)<br />\n"
   ]
  },
  {
   "cell_type": "markdown",
   "metadata": {},
   "source": [
    "<a class=\"anchor\" id=\"index\"></a>\n",
    "# Contents\n",
    "***\n",
    "## [0. Import required modules](#0)\n",
    "<br/>\n",
    "\n",
    "***\n",
    "## [1. Descriptive analysis of the dataset + Error analysis](#1)\n",
    "<br/>\n",
    "\n",
    "### [1.0. Data load ](#1_0)\n",
    "### [1.1. Exploratory data analysis ](#1_1)\n",
    "### [1.2. Data visualization ](#1_2)\n",
    "\n",
    "<br/>\n",
    "\n",
    "***\n",
    "## [2. Preprocessing + Literature review](#2)\n",
    "<br/>\n",
    "\n",
    "### [2.1 Data pre-processing](#2_1)\n",
    "### [2.2 Literature review](#2_2)\n",
    "\n",
    "<br/>\n",
    "\n",
    "***\n",
    "## [3. Implementation + results](#3)\n",
    "<br/>\n",
    "\n",
    "### [3.1 Model implementation](#3_1)\n",
    "#### [3.1.1. CNN arquitechture ](#3_1_1)\n",
    "\n",
    "<br/>\n",
    "\n",
    "### [3.2 Model training and parameter tuning](#3_2)\n",
    "\n",
    "### [3.3 Performance review](#3_3)\n",
    "\n",
    "<br/>\n"
   ]
  },
  {
   "cell_type": "markdown",
   "metadata": {},
   "source": [
    "Initial discussion and project scope"
   ]
  },
  {
   "cell_type": "markdown",
   "metadata": {},
   "source": [
    "***\n",
    "# 0. Import required modules\n",
    "<a class=\"anchor\" id=\"0\"></a>\n",
    "#### [Return to index](#main_title)\n",
    "<br/>\n",
    "\n",
    "Import required packages for each part of the coursework:\n"
   ]
  },
  {
   "cell_type": "code",
   "execution_count": 6,
   "metadata": {},
   "outputs": [
    {
     "name": "stderr",
     "output_type": "stream",
     "text": [
      "UsageError: Line magic function `%matplotlib_inline` not found.\n"
     ]
    }
   ],
   "source": [
    "# General modules:\n",
    "import numpy as np\n",
    "\n",
    "# Exploratory data analysis:\n",
    "import pandas as pd\n",
    "from matplotlib import pyplot as plt\n",
    "%matplotlib_inline\n",
    "import seaborn as sns\n",
    "\n",
    "# Data pre-processing\n",
    "from Collections import Counter, defaultdict\n",
    "\n",
    "# Machine learning module\n",
    "import tensorflow as tf\n",
    "import keras\n"
   ]
  },
  {
   "cell_type": "code",
   "execution_count": 17,
   "metadata": {},
   "outputs": [],
   "source": [
    "# Task modules:\n",
    "from t0_module import x_train, y_train, x_test, y_test, class_names\n"
   ]
  },
  {
   "cell_type": "markdown",
   "metadata": {},
   "source": [
    "***\n",
    "# 1. Descriptive analysis of the dataset + error analysis \n",
    "<a class=\"anchor\" id=\"1\"></a>\n",
    "#### [Return to index](#main_title)\n",
    "<br/>"
   ]
  },
  {
   "cell_type": "markdown",
   "metadata": {},
   "source": [
    "The scope of this section is to get a general idea of the whole dataset.\n",
    "We will start creating a histogram to see how many pictures are available for each category."
   ]
  },
  {
   "cell_type": "markdown",
   "metadata": {},
   "source": [
    "## 1.0 Data load \n",
    "<a class=\"anchor\" id=\"1_0\"></a>\n",
    "#### [Return to index](#main_title)"
   ]
  },
  {
   "cell_type": "code",
   "execution_count": 19,
   "metadata": {},
   "outputs": [
    {
     "data": {
      "text/html": [
       "<div>\n",
       "<style scoped>\n",
       "    .dataframe tbody tr th:only-of-type {\n",
       "        vertical-align: middle;\n",
       "    }\n",
       "\n",
       "    .dataframe tbody tr th {\n",
       "        vertical-align: top;\n",
       "    }\n",
       "\n",
       "    .dataframe thead th {\n",
       "        text-align: right;\n",
       "    }\n",
       "</style>\n",
       "<table border=\"1\" class=\"dataframe\">\n",
       "  <thead>\n",
       "    <tr style=\"text-align: right;\">\n",
       "      <th></th>\n",
       "      <th>Width</th>\n",
       "      <th>Height</th>\n",
       "      <th>Roi.X1</th>\n",
       "      <th>Roi.Y1</th>\n",
       "      <th>Roi.X2</th>\n",
       "      <th>Roi.Y2</th>\n",
       "      <th>ClassId</th>\n",
       "      <th>Path</th>\n",
       "    </tr>\n",
       "  </thead>\n",
       "  <tbody>\n",
       "    <tr>\n",
       "      <td>0</td>\n",
       "      <td>27</td>\n",
       "      <td>26</td>\n",
       "      <td>5</td>\n",
       "      <td>5</td>\n",
       "      <td>22</td>\n",
       "      <td>20</td>\n",
       "      <td>20</td>\n",
       "      <td>Train/20/00020_00000_00000.png</td>\n",
       "    </tr>\n",
       "    <tr>\n",
       "      <td>1</td>\n",
       "      <td>28</td>\n",
       "      <td>27</td>\n",
       "      <td>5</td>\n",
       "      <td>6</td>\n",
       "      <td>23</td>\n",
       "      <td>22</td>\n",
       "      <td>20</td>\n",
       "      <td>Train/20/00020_00000_00001.png</td>\n",
       "    </tr>\n",
       "    <tr>\n",
       "      <td>2</td>\n",
       "      <td>29</td>\n",
       "      <td>26</td>\n",
       "      <td>6</td>\n",
       "      <td>5</td>\n",
       "      <td>24</td>\n",
       "      <td>21</td>\n",
       "      <td>20</td>\n",
       "      <td>Train/20/00020_00000_00002.png</td>\n",
       "    </tr>\n",
       "    <tr>\n",
       "      <td>3</td>\n",
       "      <td>28</td>\n",
       "      <td>27</td>\n",
       "      <td>5</td>\n",
       "      <td>6</td>\n",
       "      <td>23</td>\n",
       "      <td>22</td>\n",
       "      <td>20</td>\n",
       "      <td>Train/20/00020_00000_00003.png</td>\n",
       "    </tr>\n",
       "    <tr>\n",
       "      <td>4</td>\n",
       "      <td>28</td>\n",
       "      <td>26</td>\n",
       "      <td>5</td>\n",
       "      <td>5</td>\n",
       "      <td>23</td>\n",
       "      <td>21</td>\n",
       "      <td>20</td>\n",
       "      <td>Train/20/00020_00000_00004.png</td>\n",
       "    </tr>\n",
       "  </tbody>\n",
       "</table>\n",
       "</div>"
      ],
      "text/plain": [
       "   Width  Height  Roi.X1  Roi.Y1  Roi.X2  Roi.Y2  ClassId  \\\n",
       "0     27      26       5       5      22      20       20   \n",
       "1     28      27       5       6      23      22       20   \n",
       "2     29      26       6       5      24      21       20   \n",
       "3     28      27       5       6      23      22       20   \n",
       "4     28      26       5       5      23      21       20   \n",
       "\n",
       "                             Path  \n",
       "0  Train/20/00020_00000_00000.png  \n",
       "1  Train/20/00020_00000_00001.png  \n",
       "2  Train/20/00020_00000_00002.png  \n",
       "3  Train/20/00020_00000_00003.png  \n",
       "4  Train/20/00020_00000_00004.png  "
      ]
     },
     "execution_count": 19,
     "metadata": {},
     "output_type": "execute_result"
    }
   ],
   "source": [
    "train_df = pd.read_csv(\"data/Train.csv\")\n",
    "test_df = pd.read_csv(\"data/Test.csv\")\n",
    "\n",
    "train_df.head()"
   ]
  },
  {
   "cell_type": "markdown",
   "metadata": {},
   "source": [
    "## 1.1 Exploratory data analysis \n",
    "<a class=\"anchor\" id=\"1_1\"></a>\n",
    "#### [Return to index](#main_title)"
   ]
  },
  {
   "cell_type": "code",
   "execution_count": null,
   "metadata": {},
   "outputs": [],
   "source": [
    "# Explore the number of files using .value_counts()\n",
    "\n",
    "\n",
    "\n"
   ]
  },
  {
   "cell_type": "markdown",
   "metadata": {},
   "source": [
    "## 1.2 Data visualization \n",
    "<a class=\"anchor\" id=\"1_2\"></a>\n",
    "#### [Return to index](#main_title)"
   ]
  },
  {
   "cell_type": "code",
   "execution_count": null,
   "metadata": {},
   "outputs": [],
   "source": [
    "# Create a histogram with the number of pictures per category:\n",
    "\n",
    "\n",
    "\n"
   ]
  },
  {
   "cell_type": "code",
   "execution_count": null,
   "metadata": {},
   "outputs": [],
   "source": [
    "# Create a box-plot with the average pixel intensity per picture:\n",
    "\n",
    "\n",
    "\n"
   ]
  },
  {
   "cell_type": "code",
   "execution_count": null,
   "metadata": {},
   "outputs": [],
   "source": [
    "# Visualize 25 random pictures from the test dataset:\n",
    "\n",
    "\n",
    "\n"
   ]
  },
  {
   "cell_type": "markdown",
   "metadata": {},
   "source": [
    "***\n",
    "# 2. Preprocessing + Literature review \n",
    "<a class=\"anchor\" id=\"2\"></a>\n",
    "#### [Return to index](#main_title)"
   ]
  },
  {
   "cell_type": "markdown",
   "metadata": {},
   "source": [
    "## 2.1 Data pre-processing \n",
    "<a class=\"anchor\" id=\"2_1\"></a>\n",
    "#### [Return to index](#main_title)"
   ]
  },
  {
   "cell_type": "code",
   "execution_count": null,
   "metadata": {},
   "outputs": [],
   "source": [
    "# Resize all pictures: \n",
    "# Use pillow package (pip install PIL) then -> from PIL import Image . Use .fromarray() and .resize() methods to load and resize images.\n",
    "\n",
    "\n",
    "\n",
    "\n",
    "\n"
   ]
  },
  {
   "cell_type": "code",
   "execution_count": null,
   "metadata": {},
   "outputs": [],
   "source": [
    "# Shuffle train pictures:\n",
    "\n",
    "\n",
    "\n",
    "\n"
   ]
  },
  {
   "cell_type": "code",
   "execution_count": null,
   "metadata": {},
   "outputs": [],
   "source": [
    "# Split the train data into train and validation set:\n",
    "\n",
    "\n",
    "\n",
    "\n"
   ]
  },
  {
   "cell_type": "code",
   "execution_count": null,
   "metadata": {},
   "outputs": [],
   "source": [
    "# One hot encoding the labels:\n",
    "\n",
    "\n",
    "\n",
    "\n"
   ]
  },
  {
   "cell_type": "markdown",
   "metadata": {},
   "source": [
    "## 2.2 Literature Review \n",
    "<a class=\"anchor\" id=\"2_2\"></a>\n",
    "#### [Return to index](#main_title)\n",
    "\n",
    "<br/>\n",
    "<br/>\n",
    "Data review and justification for the choosing the model below will be detailed in the Markdown report.\n",
    "<br/>\n",
    "<br/>"
   ]
  },
  {
   "cell_type": "markdown",
   "metadata": {},
   "source": [
    "***\n",
    "# 3. Implementation + results \n",
    "<a class=\"anchor\" id=\"3\"></a>\n",
    "#### [Return to index](#main_title)"
   ]
  },
  {
   "cell_type": "markdown",
   "metadata": {},
   "source": [
    "## 3.1 Model implementation \n",
    "<a class=\"anchor\" id=\"3_1\"></a>\n",
    "#### [Return to index](#main_title)"
   ]
  },
  {
   "cell_type": "code",
   "execution_count": null,
   "metadata": {},
   "outputs": [],
   "source": [
    "# Create a CNN model:\n",
    "\n",
    "\n",
    "\n"
   ]
  },
  {
   "cell_type": "markdown",
   "metadata": {},
   "source": [
    "### 3.1.1 CNN Architecture  \n",
    "<a class=\"anchor\" id=\"3_1_1\"></a>\n",
    "#### [Return to index](#main_title)"
   ]
  },
  {
   "cell_type": "code",
   "execution_count": null,
   "metadata": {},
   "outputs": [],
   "source": [
    "# Discuss CNN model and add more layers if neccesary:\n",
    "\n",
    "\n",
    "\n",
    "\n"
   ]
  },
  {
   "cell_type": "markdown",
   "metadata": {},
   "source": [
    "## 3.2 Model training and parameter tuning\n",
    "<a class=\"anchor\" id=\"3_2\"></a>\n",
    "#### [Return to index](#main_title)"
   ]
  },
  {
   "cell_type": "code",
   "execution_count": null,
   "metadata": {},
   "outputs": [],
   "source": [
    "# Train the model:\n",
    "\n",
    "\n",
    "\n",
    "\n",
    "\n"
   ]
  },
  {
   "cell_type": "markdown",
   "metadata": {},
   "source": [
    "## 3.3 Performance review\n",
    "<a class=\"anchor\" id=\"3_3\"></a>\n",
    "#### [Return to index](#main_title)"
   ]
  },
  {
   "cell_type": "code",
   "execution_count": null,
   "metadata": {},
   "outputs": [],
   "source": [
    "# Plot accuracy vs loss performance and discuss the need of data augmentation:\n",
    "\n",
    "\n",
    "\n",
    "\n"
   ]
  }
 ],
 "metadata": {
  "kernelspec": {
   "display_name": "Python 3",
   "language": "python",
   "name": "python3"
  },
  "language_info": {
   "codemirror_mode": {
    "name": "ipython",
    "version": 3
   },
   "file_extension": ".py",
   "mimetype": "text/x-python",
   "name": "python",
   "nbconvert_exporter": "python",
   "pygments_lexer": "ipython3",
   "version": "3.7.4"
  }
 },
 "nbformat": 4,
 "nbformat_minor": 4
}
